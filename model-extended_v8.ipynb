{
 "cells": [
  {
   "cell_type": "code",
   "execution_count": 1,
   "metadata": {},
   "outputs": [],
   "source": [
    "import numpy as np\n",
    "from sklearn.metrics import mean_squared_error\n",
    "import pandas as pd"
   ]
  },
  {
   "cell_type": "code",
   "execution_count": 2,
   "metadata": {},
   "outputs": [],
   "source": [
    "N = 10000000"
   ]
  },
  {
   "cell_type": "code",
   "execution_count": 3,
   "metadata": {
    "scrolled": true
   },
   "outputs": [
    {
     "data": {
      "text/html": [
       "<div>\n",
       "<style scoped>\n",
       "    .dataframe tbody tr th:only-of-type {\n",
       "        vertical-align: middle;\n",
       "    }\n",
       "\n",
       "    .dataframe tbody tr th {\n",
       "        vertical-align: top;\n",
       "    }\n",
       "\n",
       "    .dataframe thead th {\n",
       "        text-align: right;\n",
       "    }\n",
       "</style>\n",
       "<table border=\"1\" class=\"dataframe\">\n",
       "  <thead>\n",
       "    <tr style=\"text-align: right;\">\n",
       "      <th></th>\n",
       "      <th>Date</th>\n",
       "      <th>Uncovered</th>\n",
       "      <th>Du</th>\n",
       "      <th>Ru</th>\n",
       "      <th>Exposed</th>\n",
       "      <th>Isolated</th>\n",
       "      <th>Infected</th>\n",
       "      <th>Di</th>\n",
       "      <th>Ri</th>\n",
       "      <th>Apathetic</th>\n",
       "      <th>Da</th>\n",
       "      <th>Ra</th>\n",
       "    </tr>\n",
       "  </thead>\n",
       "  <tbody>\n",
       "    <tr>\n",
       "      <th>0</th>\n",
       "      <td>16-06-21</td>\n",
       "      <td>1318</td>\n",
       "      <td>34</td>\n",
       "      <td>828</td>\n",
       "      <td>23807</td>\n",
       "      <td>1533</td>\n",
       "      <td>3956</td>\n",
       "      <td>60</td>\n",
       "      <td>2679</td>\n",
       "      <td>1102</td>\n",
       "      <td>32</td>\n",
       "      <td>686</td>\n",
       "    </tr>\n",
       "    <tr>\n",
       "      <th>1</th>\n",
       "      <td>17-06-21</td>\n",
       "      <td>1213</td>\n",
       "      <td>33</td>\n",
       "      <td>795</td>\n",
       "      <td>24871</td>\n",
       "      <td>1795</td>\n",
       "      <td>3840</td>\n",
       "      <td>63</td>\n",
       "      <td>2714</td>\n",
       "      <td>630</td>\n",
       "      <td>24</td>\n",
       "      <td>437</td>\n",
       "    </tr>\n",
       "    <tr>\n",
       "      <th>2</th>\n",
       "      <td>18-06-21</td>\n",
       "      <td>1408</td>\n",
       "      <td>40</td>\n",
       "      <td>865</td>\n",
       "      <td>20882</td>\n",
       "      <td>1951</td>\n",
       "      <td>3883</td>\n",
       "      <td>54</td>\n",
       "      <td>1955</td>\n",
       "      <td>864</td>\n",
       "      <td>25</td>\n",
       "      <td>592</td>\n",
       "    </tr>\n",
       "    <tr>\n",
       "      <th>3</th>\n",
       "      <td>19-06-21</td>\n",
       "      <td>798</td>\n",
       "      <td>27</td>\n",
       "      <td>577</td>\n",
       "      <td>16694</td>\n",
       "      <td>1234</td>\n",
       "      <td>3057</td>\n",
       "      <td>67</td>\n",
       "      <td>1725</td>\n",
       "      <td>361</td>\n",
       "      <td>15</td>\n",
       "      <td>245</td>\n",
       "    </tr>\n",
       "    <tr>\n",
       "      <th>4</th>\n",
       "      <td>20-06-21</td>\n",
       "      <td>1068</td>\n",
       "      <td>28</td>\n",
       "      <td>677</td>\n",
       "      <td>22231</td>\n",
       "      <td>1346</td>\n",
       "      <td>3641</td>\n",
       "      <td>82</td>\n",
       "      <td>2509</td>\n",
       "      <td>789</td>\n",
       "      <td>25</td>\n",
       "      <td>553</td>\n",
       "    </tr>\n",
       "  </tbody>\n",
       "</table>\n",
       "</div>"
      ],
      "text/plain": [
       "       Date  Uncovered  Du   Ru  Exposed  Isolated  Infected  Di    Ri  \\\n",
       "0  16-06-21       1318  34  828    23807      1533      3956  60  2679   \n",
       "1  17-06-21       1213  33  795    24871      1795      3840  63  2714   \n",
       "2  18-06-21       1408  40  865    20882      1951      3883  54  1955   \n",
       "3  19-06-21        798  27  577    16694      1234      3057  67  1725   \n",
       "4  20-06-21       1068  28  677    22231      1346      3641  82  2509   \n",
       "\n",
       "   Apathetic  Da   Ra  \n",
       "0       1102  32  686  \n",
       "1        630  24  437  \n",
       "2        864  25  592  \n",
       "3        361  15  245  \n",
       "4        789  25  553  "
      ]
     },
     "execution_count": 3,
     "metadata": {},
     "output_type": "execute_result"
    }
   ],
   "source": [
    "#data feeding\n",
    "df = pd.read_csv(\"Data_input_daily1.csv\") # dataset\n",
    "df.head()\n"
   ]
  },
  {
   "cell_type": "code",
   "execution_count": 4,
   "metadata": {},
   "outputs": [
    {
     "name": "stdout",
     "output_type": "stream",
     "text": [
      "Date\n",
      "Uncovered\n",
      "Du\n",
      "Ru\n",
      "Exposed\n",
      "Isolated\n",
      "Infected\n",
      "Di\n",
      "Ri\n",
      "Apathetic\n",
      "Da\n",
      "Ra\n"
     ]
    }
   ],
   "source": [
    "for col in df.columns:\n",
    "    print(col)"
   ]
  },
  {
   "cell_type": "code",
   "execution_count": 5,
   "metadata": {},
   "outputs": [
    {
     "data": {
      "text/plain": [
       "(46, 12)"
      ]
     },
     "execution_count": 5,
     "metadata": {},
     "output_type": "execute_result"
    }
   ],
   "source": [
    "# df.columns =['Date', 'Uncovered','Du', 'Ru','Exposed', 'Isolated', 'Infected','Di', 'Ri', 'Apathetic','Da', 'Ra']\n",
    "# for col in df.columns:\n",
    "#     print(col)\n",
    "df.shape"
   ]
  },
  {
   "cell_type": "code",
   "execution_count": 6,
   "metadata": {},
   "outputs": [
    {
     "name": "stdout",
     "output_type": "stream",
     "text": [
      "Available 46 days\n"
     ]
    }
   ],
   "source": [
    "available = len(df.index)\n",
    "print(\"Available\", available, \"days\")"
   ]
  },
  {
   "cell_type": "code",
   "execution_count": 7,
   "metadata": {},
   "outputs": [],
   "source": [
    "start_date = df['Date'].iloc[0]   # first index take push korlam array te.\n",
    "uncovered = df['Uncovered'].values.tolist() \n",
    "Du = df['Du'].values.tolist() \n",
    "Ru = df['Ru'].values.tolist() \n",
    "exposed= df['Exposed'].values.tolist()\n",
    "isolated = df['Isolated'].values.tolist()\n",
    "infected = df['Infected'].values.tolist() \n",
    "Di = df['Di'].values.tolist()\n",
    "Ri = df['Ri'].values.tolist()\n",
    "apathetic = df['Apathetic'].values.tolist() \n",
    "Da = df['Da'].values.tolist() \n",
    "Ra = df['Ra'].values.tolist() "
   ]
  },
  {
   "cell_type": "code",
   "execution_count": 8,
   "metadata": {},
   "outputs": [
    {
     "name": "stdout",
     "output_type": "stream",
     "text": [
      "16-06-21\n"
     ]
    }
   ],
   "source": [
    "print(start_date)"
   ]
  },
  {
   "cell_type": "code",
   "execution_count": 9,
   "metadata": {},
   "outputs": [
    {
     "name": "stdout",
     "output_type": "stream",
     "text": [
      "['2021-06-16', '2021-06-17', '2021-06-18', '2021-06-19', '2021-06-20', '2021-06-21', '2021-06-22', '2021-06-23', '2021-06-24', '2021-06-25', '2021-06-26', '2021-06-27', '2021-06-28', '2021-06-29', '2021-06-30', '2021-07-01', '2021-07-02', '2021-07-03', '2021-07-04', '2021-07-05', '2021-07-06', '2021-07-07', '2021-07-08', '2021-07-09', '2021-07-10', '2021-07-11', '2021-07-12', '2021-07-13', '2021-07-14', '2021-07-15', '2021-07-16', '2021-07-17', '2021-07-18', '2021-07-19', '2021-07-20', '2021-07-21', '2021-07-22', '2021-07-23', '2021-07-24', '2021-07-25', '2021-07-26', '2021-07-27', '2021-07-28', '2021-07-29', '2021-07-30', '2021-07-31', '2021-08-01', '2021-08-02', '2021-08-03', '2021-08-04', '2021-08-05', '2021-08-06', '2021-08-07', '2021-08-08', '2021-08-09', '2021-08-10', '2021-08-11', '2021-08-12', '2021-08-13', '2021-08-14', '2021-08-15']\n",
      "61\n"
     ]
    }
   ],
   "source": [
    "#Helper Function\n",
    "\n",
    "t_max = available + 15\n",
    "\n",
    "date = np.array('2021-06-16', dtype=np.datetime64) \n",
    "dates = date + np.arange(t_max)\n",
    "str_dates = []\n",
    "for i in dates:\n",
    "    str_dates.append(str(i))\n",
    "print(str_dates)\n",
    "print(len(str_dates))"
   ]
  },
  {
   "cell_type": "code",
   "execution_count": 10,
   "metadata": {},
   "outputs": [],
   "source": [
    "def seird_model(init_vals, params, t):\n",
    "\n",
    "    DATE_0, S_0, U_0, Du_0, Ru_0, E_0, Is_0, I_0,  Di_0, Ri_0, A_0, Da_0, Ra_0 = init_vals  \n",
    "    DATE, S, U, Du, Ru, E, Is, I, Di, Ri, A, Da, Ra = [DATE_0] , [S_0] , [U_0] , [Du_0] , [Ru_0] , [E_0] , [Is_0] , [I_0] ,  [Di_0] , [Ri_0] , [A_0] , [Da_0] , [Ra_0]\n",
    "    \n",
    "    alpha, beta, lamda, gamma, rho, delta, miu, omega, eta, sigma, tao = params\n",
    "    \n",
    "    ##### Create next t days ######\n",
    "    date = np.array(DATE, dtype=np.datetime64)\n",
    "    dates = date + np.arange(len(t))\n",
    "    str_dates = []\n",
    "    for i in dates:\n",
    "        str_dates.append(str(i))\n",
    "        \n",
    "    ##### End creating t days #####\n",
    "    for tic in t[0:]:                # 1st din er initial value deya ache tai 1 theke shuru kore baki shob add dilam.\n",
    "\n",
    "        DATE.append(str_dates[tic])\n",
    "\n",
    "        \n",
    "        next_S = S[-1] - ( alpha * (S[-1]  * E[-1] / N ) ) - ( beta * (S[-1]  * U[-1] / N ) )  \n",
    "        next_U = U[-1] + ( beta * (S[-1]  * U[-1] / N ) ) - ( sigma * U[-1] ) - ( tao * U[-1] ) \n",
    "        next_Du = Du[-1] + ( sigma * U[-1] )\n",
    "        next_Ru = Ru[-1] + ( tao * U[-1]) \n",
    "        next_E = E[-1] + ( alpha * (S[-1]  * E[-1] / N ) ) - ( gamma * I[-1] ) - ( lamda * A[-1] ) - ( rho * Is[-1] ) \n",
    "        next_Is = Is[-1] + (rho *  Is[-1] )\n",
    "        next_I = I[-1] + ( gamma * I[-1] ) - ( delta * I[-1] ) - ( miu * I[-1] ) \n",
    "        next_Di = Di[-1] + ( delta * I[-1] )  \n",
    "        next_Ri = Ri[-1] + ( miu * I[-1] )  \n",
    "        next_A = A[-1] + ( lamda * A[-1] ) - ( omega * A[-1] ) - ( eta * A[-1] )\n",
    "        next_Da = Da[-1] + ( omega * A[-1] )\n",
    "        next_Ra = Ra[-1] + ( eta * A[-1] )\n",
    "        \n",
    "        \n",
    "        S.append(next_S)\n",
    "        U.append(next_U)\n",
    "        Du.append(next_Du)                   \n",
    "        Ru.append(next_Ru)\n",
    "        E.append(next_E) \n",
    "        Is.append(next_Is)\n",
    "        I.append(next_I)\n",
    "        Di.append(next_Di)\n",
    "        Ri.append(next_Ri)\n",
    "        A.append(next_A) \n",
    "        Da.append(next_Da)                   \n",
    "        Ra.append(next_Ra)\n",
    "                          \n",
    "\n",
    "    return np.stack([DATE, S, U, Du, Ru, E, Is, I, Di, Ri, A, Da, Ra]).T"
   ]
  },
  {
   "cell_type": "code",
   "execution_count": 11,
   "metadata": {},
   "outputs": [],
   "source": [
    "# Spliting the data for one day rolling window approach\n",
    "\n",
    "train_min = 1  # diffrence ber korar jnno ami 1 din er diffrence k niye call kortesi\n",
    "train_max = available + 1\n",
    "\n",
    "uncovered_train = []\n",
    "Du_train = []\n",
    "Ru_train = []\n",
    "exposed_train = []\n",
    "isolated_train = []\n",
    "infected_train = []\n",
    "Di_train = []\n",
    "Ri_train = []\n",
    "apathetic_train = []\n",
    "Da_train = []\n",
    "Ra_train = []\n",
    "\n",
    "\n",
    "for i in range(train_min+1, train_max):\n",
    "    j = i - 2\n",
    "    uncovered_train.append(uncovered[j:i])\n",
    "    Du_train.append(Du[j:i])\n",
    "    Ru_train.append(Ru[j:i])\n",
    "    exposed_train.append(exposed[j:i])\n",
    "    isolated_train.append(isolated[j:i])\n",
    "    infected_train.append(infected[j:i])\n",
    "    Di_train.append(Di[j:i])\n",
    "    Ri_train.append(Ri[j:i])\n",
    "    apathetic_train.append(apathetic[j:i])\n",
    "    Da_train.append(Da[j:i])\n",
    "    Ra_train.append(Ra[j:i])\n",
    "    "
   ]
  },
  {
   "cell_type": "code",
   "execution_count": 12,
   "metadata": {},
   "outputs": [
    {
     "name": "stdout",
     "output_type": "stream",
     "text": [
      "[ 0  1  2  3  4  5  6  7  8  9 10 11 12 13 14]\n"
     ]
    }
   ],
   "source": [
    "t2 = np.arange(0, 15, 1)   # 0 - 3 PORJNTO JABE.. R PROTTEKBAR 1 KORE KORE BARBE. 0 initial value tar mane 0 theke shuRa hoye aro 2 din porjnto simulation cholbe.\n",
    "print(t2)"
   ]
  },
  {
   "cell_type": "code",
   "execution_count": 13,
   "metadata": {},
   "outputs": [
    {
     "name": "stdout",
     "output_type": "stream",
     "text": [
      "2021-06-16\n",
      "2021-06-17\n",
      "2021-06-18\n",
      "2021-06-19\n",
      "2021-06-20\n",
      "2021-06-21\n",
      "2021-06-22\n",
      "2021-06-23\n",
      "2021-06-24\n",
      "2021-06-25\n",
      "2021-06-26\n",
      "2021-06-27\n",
      "2021-06-28\n",
      "2021-06-29\n",
      "2021-06-30\n",
      "2021-07-01\n",
      "2021-07-02\n",
      "2021-07-03\n",
      "2021-07-04\n",
      "2021-07-05\n",
      "2021-07-06\n",
      "2021-07-07\n",
      "2021-07-08\n",
      "2021-07-09\n",
      "2021-07-10\n",
      "2021-07-11\n",
      "2021-07-12\n",
      "2021-07-13\n",
      "2021-07-14\n",
      "2021-07-15\n",
      "2021-07-16\n",
      "2021-07-17\n",
      "2021-07-18\n",
      "2021-07-19\n",
      "2021-07-20\n",
      "2021-07-21\n",
      "2021-07-22\n",
      "2021-07-23\n",
      "2021-07-24\n",
      "2021-07-25\n",
      "2021-07-26\n",
      "2021-07-27\n",
      "2021-07-28\n",
      "2021-07-29\n",
      "2021-07-30\n"
     ]
    }
   ],
   "source": [
    "last5_vals = []\n",
    "last5_params = []\n",
    "\n",
    "\n",
    "t_incub = 15 # Assumption days\n",
    "\n",
    "for sample in range(len(infected_train)):\n",
    "    \n",
    "    u_0 = uncovered_train[sample][0]\n",
    "    u_1 = uncovered_train[sample][1]\n",
    "    u_diff = u_1 - u_0\n",
    "    \n",
    "    Du_0 = Du_train[sample][0]\n",
    "    Du_1 = Du_train[sample][1]\n",
    "    Du_diff = Du_1 - Du_0\n",
    "\n",
    "    Ru_0 = Ru_train[sample][0]\n",
    "    Ru_1 = Ru_train[sample][1]\n",
    "    Ru_diff = Ru_1 - Ru_0\n",
    "    \n",
    "    e_0 = exposed_train[sample][0]\n",
    "    e_1 = exposed_train[sample][1]\n",
    "    e_diff = e_1 - e_0\n",
    "    \n",
    "    is_0 = isolated_train[sample][0]\n",
    "    is_1 = isolated_train[sample][1]\n",
    "    is_diff = is_1 - is_0\n",
    "    \n",
    "    i_0 = infected_train[sample][0]\n",
    "    i_1 = infected_train[sample][1]\n",
    "    i_diff = i_1 - i_0\n",
    "    \n",
    "    Di_0 = Di_train[sample][0]\n",
    "    Di_1 = Di_train[sample][1]\n",
    "    Di_diff = Di_1 - Di_0\n",
    "    \n",
    "    Ri_0 = Ri_train[sample][0]\n",
    "    Ri_1 = Ri_train[sample][1]\n",
    "    Ri_diff = Ri_1 - Ri_0\n",
    "    \n",
    "    a_0 = apathetic_train[sample][0]\n",
    "    a_1 = apathetic_train[sample][1]\n",
    "    a_diff = a_1 - a_0\n",
    "\n",
    "    Da_0 = Da_train[sample][0]\n",
    "    Da_1 = Da_train[sample][1]\n",
    "    Da_diff = Da_1 - Da_0\n",
    "\n",
    "    Ra_0 = Ra_train[sample][0]\n",
    "    Ra_1 = Ra_train[sample][1]\n",
    "    Ra_diff = Ra_1 - Ra_0\n",
    "    \n",
    "    s_0 = N - is_0 - Du_0 - Ru_0 - Di_0 - Ri_0 - Da_0 - Ra_0\n",
    "    \n",
    "    alpha = (( e_diff + i_diff + Di_diff + Ri_diff + a_diff + Da_diff + Ra_diff + is_diff) / (s_0 * e_0 )) * N  \n",
    "    beta =  ( ( u_diff + Du_diff + Ru_diff ) / (s_0 * u_0 ) )* N     \n",
    "    lamda =  ( ( a_diff + Da_diff + Ra_diff ) / a_0 )     \n",
    "    gamma = ( i_diff + Di_diff + Ri_diff) / i_0    \n",
    "    rho = ( is_diff / is_0 )      \n",
    "    delta = ( Di_diff / i_0 )  \n",
    "    miu =  ( Ri_diff / i_0 )     \n",
    "    omega =  ( Da_diff / a_0 )     \n",
    "    eta =  ( Ra_diff / a_0 )     \n",
    "    sigma = ( Du_diff / u_0 )     \n",
    "    tao = ( Ru_diff / u_0 )      \n",
    "    \n",
    "\n",
    "    init_vals = str_dates[sample], s_0, u_0, Du_0, Ru_0, e_0, is_0, i_0, Di_0, Ri_0, a_0, Da_0, Ra_0  \n",
    "    params = alpha, beta, lamda, gamma, rho, delta, miu, omega, eta, sigma, tao\n",
    "    pred = seird_model(init_vals, params, t2) # t2 cz etar upor porer day gula depend kortese.\n",
    "\n",
    "\n",
    "    # Store Last five cases for predecting future\n",
    "    if ((len(infected_train) - sample ) <= 45):\n",
    "        print(str_dates[sample])\n",
    "        last5_vals.append(init_vals)\n",
    "        last5_params.append(params)"
   ]
  },
  {
   "cell_type": "code",
   "execution_count": 14,
   "metadata": {},
   "outputs": [
    {
     "name": "stdout",
     "output_type": "stream",
     "text": [
      "[ 0  1  2  3  4  5  6  7  8  9 10 11 12 13 14 15 16 17 18 19 20 21 22 23\n",
      " 24 25 26 27 28 29 30 31 32 33 34 35 36 37 38 39 40 41 42 43 44 45 46 47\n",
      " 48 49 50 51 52 53 54 55 56 57 58 59 60 61 62 63 64 65 66 67 68 69 70 71\n",
      " 72 73 74 75 76 77 78 79 80 81 82 83 84 85 86 87 88 89 90 91 92 93 94 95\n",
      " 96 97 98 99]\n"
     ]
    }
   ],
   "source": [
    "t7 = np.arange(0, 100, 1)  #13 din er data ashbe\n",
    "print(t7)"
   ]
  },
  {
   "cell_type": "code",
   "execution_count": 15,
   "metadata": {},
   "outputs": [
    {
     "name": "stdout",
     "output_type": "stream",
     "text": [
      "---------------------------------------------------------------------------------------------------\n",
      "Predictions using 2021-06-16 parameters\n",
      "---------------------------------------------------------------------------------------------------\n",
      "Date Uncovered Du Ru Exposed Isolated Infected Di Ri Apathetic Da Ra\n",
      "---------------------------------------------------------------------------------------------------\n",
      "2021-08-01 26 21 422 -2846130 2547359 976 137 3577 0 13 104\n",
      "2021-08-02 24 21 421 -3345564 2982719 948 137 3586 0 13 104\n",
      "2021-08-03 22 21 420 -3931119 3492486 920 138 3594 0 13 104\n",
      "2021-08-04 20 21 420 -4617715 4089376 893 139 3603 0 13 104\n",
      "2021-08-05 18 21 419 -5422900 4788277 867 139 3610 0 13 104\n",
      "2021-08-06 16 21 419 -6367324 5606626 841 140 3618 0 13 104\n",
      "2021-08-07 15 21 418 -7475321 6564837 817 141 3626 0 13 104\n",
      "2021-08-08 13 21 418 -8775594 7686811 793 141 3633 0 13 104\n",
      "2021-08-09 12 21 418 -10302050 9000539 769 142 3640 0 13 104\n",
      "2021-08-10 11 21 417 -12094818 10538792 747 142 3647 0 13 104\n",
      "2021-08-11 10 21 417 -14201492 12339942 725 143 3653 0 13 104\n",
      "2021-08-12 9 21 417 -16678679 14448921 704 144 3660 0 13 104\n",
      "2021-08-13 8 21 416 -19593931 16918339 683 144 3666 0 13 104\n",
      "2021-08-14 7 21 416 -23028209 19809797 663 145 3672 0 13 104\n",
      "2021-08-15 6 21 416 -27079069 23195425 643 145 3678 0 13 104\n",
      "2021-08-16 5 21 416 -31864872 27159679 625 146 3684 0 13 104\n",
      "2021-08-17 5 21 416 -37530495 31801450 606 146 3689 0 13 104\n",
      "2021-08-18 4 21 416 -44255293 37236532 588 147 3694 0 13 104\n",
      "2021-08-19 3 21 416 -52264583 43600505 571 147 3700 0 13 104\n",
      "2021-08-20 3 21 415 -61846866 51052125 554 147 3705 0 13 104\n",
      "2021-08-21 2 21 415 -73380765 59777276 538 148 3710 0 13 104\n",
      "2021-08-22 1 21 415 -87379247 69993614 522 148 3714 0 13 104\n",
      "2021-08-23 1 21 415 -104566155 81955993 507 149 3719 0 13 104\n",
      "2021-08-24 0 21 415 -126016818 95962823 492 149 3723 0 13 104\n",
      "2021-08-25 0 21 415 -153434543 112363515 478 149 3728 0 13 104\n",
      "2021-08-26 0 21 415 -189739527 131567194 464 150 3732 0 13 104\n",
      "2021-08-27 0 21 415 -240450883 154052912 450 150 3736 0 13 104\n",
      "2021-08-28 0 21 415 -317353295 180381590 437 151 3740 0 13 104\n",
      "2021-08-29 0 21 415 -449939675 211210015 424 151 3744 0 13 104\n",
      "2021-08-30 0 21 415 -730179139 247307226 412 151 3748 0 13 104\n",
      "-----------------------------------------------------------------------------------------------------\n",
      "\n",
      "---------------------------------------------------------------------------------------------------\n",
      "Predictions using 2021-06-17 parameters\n",
      "---------------------------------------------------------------------------------------------------\n",
      "Date Uncovered Du Ru Exposed Isolated Infected Di Ri Apathetic Da Ra\n",
      "---------------------------------------------------------------------------------------------------\n",
      "2021-08-01 -5391717 11336 113831 7260829004 82972 6409 -474 -42633 1286196811 5496588 851967993\n",
      "2021-08-02 1130798737 -19778 -197315 1149621149666 90183 6480 -489 -43899 1763927055 7538171 1168413240\n",
      "2021-08-03 -29269701785206 6505853 65059001 22240893376754532 98021 6553 -504 -45180 2419099962 10338055 1602395293\n",
      "2021-08-04 14586846115942730039296 -168903562156 -1689035621101 8283649095865535146491904 106539 6626 -520 -46476 3317622805 14177896 2197570681\n",
      "2021-08-05 -2715875754638671398372358257030327173120 84178007095399088128 841780070953990881280 1152647598339500184929615848296982268346368 115799 6700 -535 -47785 4549882704 19443964 3013811212\n",
      "2021-08-06 70072025379070988630810109891940391518414845238509431561917840224828784640 -15672819688763972765501695415052926976 -156728196887639732377383437020174483456 22225814325098238756809323645828750669445081962274637292347410421928360411136 125863 6776 -551 -49110 6239839137 26666000 4133226798\n",
      "2021-08-07 -35053559950206669443664799125597396864766193900190975547794772496364137372821894647439364948528010568758751798221222085022747571860088704466944 404372776301316507585606932283634338787469037823436859531740774555189248 4043727763013165566254642399920778062545739066333307353313926844304588800 8309435121675405078760044825826052450261032197193282355312720067637827789748474308464809746961684441371211317816168289275908299430017253928599552 136801 6851 -567 -50449 8557493674 36570507 5668425316\n",
      "2021-08-08 6507742975788015455618012024221288479441228263281223561581007732382273808894912943053615219468305748095079165883016352109351157639034385831771115325703312207515390961243634741944596935706573207894830462911642818512503708990647127072566269244692307833583620504367225895996316712960 -202287650166073115471710085786888294606713880699217714151538653878424422098087275648321104186620695200460779354882960191564602535140367794176 -2022876501660731323947428868172524277757457663381563337586985377640236357850964346731093598361911483253045666115942522898996303757383403831296 1152911902004742080100433077170945854449038312402466366861625310490252862040388277389337037518250269202141826496255521512276480615070138724248384563852254380333454465334615444200447481636855843446337888153092251168846841417803356783196790217189578804994773010179533773541427696893952 148690 6928 -583 -51804 11735991324 50153830 7773840426\n"
     ]
    },
    {
     "ename": "OverflowError",
     "evalue": "cannot convert float infinity to integer",
     "output_type": "error",
     "traceback": [
      "\u001b[1;31m---------------------------------------------------------------------------\u001b[0m",
      "\u001b[1;31mOverflowError\u001b[0m                             Traceback (most recent call last)",
      "\u001b[1;32m<ipython-input-15-7b403f5ff2d3>\u001b[0m in \u001b[0;36m<module>\u001b[1;34m\u001b[0m\n\u001b[0;32m      8\u001b[0m     \u001b[0mprint\u001b[0m\u001b[1;33m(\u001b[0m\u001b[1;34m\"---------------------------------------------------------------------------------------------------\"\u001b[0m\u001b[1;33m)\u001b[0m\u001b[1;33m\u001b[0m\u001b[1;33m\u001b[0m\u001b[0m\n\u001b[0;32m      9\u001b[0m     \u001b[1;32mfor\u001b[0m \u001b[0mday\u001b[0m \u001b[1;32min\u001b[0m \u001b[0mt_z\u001b[0m\u001b[1;33m:\u001b[0m\u001b[1;33m\u001b[0m\u001b[1;33m\u001b[0m\u001b[0m\n\u001b[1;32m---> 10\u001b[1;33m         \u001b[0mprint\u001b[0m\u001b[1;33m(\u001b[0m\u001b[0mresults\u001b[0m\u001b[1;33m[\u001b[0m\u001b[0mday\u001b[0m\u001b[1;33m]\u001b[0m\u001b[1;33m[\u001b[0m\u001b[1;36m0\u001b[0m\u001b[1;33m]\u001b[0m\u001b[1;33m,\u001b[0m\u001b[0mint\u001b[0m\u001b[1;33m(\u001b[0m\u001b[0mfloat\u001b[0m\u001b[1;33m(\u001b[0m\u001b[0mresults\u001b[0m\u001b[1;33m[\u001b[0m\u001b[0mday\u001b[0m\u001b[1;33m]\u001b[0m\u001b[1;33m[\u001b[0m\u001b[1;36m2\u001b[0m\u001b[1;33m]\u001b[0m\u001b[1;33m)\u001b[0m\u001b[1;33m)\u001b[0m\u001b[1;33m,\u001b[0m\u001b[0mint\u001b[0m\u001b[1;33m(\u001b[0m\u001b[0mfloat\u001b[0m\u001b[1;33m(\u001b[0m\u001b[0mresults\u001b[0m\u001b[1;33m[\u001b[0m\u001b[0mday\u001b[0m\u001b[1;33m]\u001b[0m\u001b[1;33m[\u001b[0m\u001b[1;36m3\u001b[0m\u001b[1;33m]\u001b[0m\u001b[1;33m)\u001b[0m\u001b[1;33m)\u001b[0m\u001b[1;33m,\u001b[0m\u001b[0mint\u001b[0m\u001b[1;33m(\u001b[0m\u001b[0mfloat\u001b[0m\u001b[1;33m(\u001b[0m\u001b[0mresults\u001b[0m\u001b[1;33m[\u001b[0m\u001b[0mday\u001b[0m\u001b[1;33m]\u001b[0m\u001b[1;33m[\u001b[0m\u001b[1;36m4\u001b[0m\u001b[1;33m]\u001b[0m\u001b[1;33m)\u001b[0m\u001b[1;33m)\u001b[0m\u001b[1;33m,\u001b[0m \u001b[0mint\u001b[0m\u001b[1;33m(\u001b[0m\u001b[0mfloat\u001b[0m\u001b[1;33m(\u001b[0m\u001b[0mresults\u001b[0m\u001b[1;33m[\u001b[0m\u001b[0mday\u001b[0m\u001b[1;33m]\u001b[0m\u001b[1;33m[\u001b[0m\u001b[1;36m5\u001b[0m\u001b[1;33m]\u001b[0m\u001b[1;33m)\u001b[0m\u001b[1;33m)\u001b[0m\u001b[1;33m,\u001b[0m \u001b[0mint\u001b[0m\u001b[1;33m(\u001b[0m\u001b[0mfloat\u001b[0m\u001b[1;33m(\u001b[0m\u001b[0mresults\u001b[0m\u001b[1;33m[\u001b[0m\u001b[0mday\u001b[0m\u001b[1;33m]\u001b[0m\u001b[1;33m[\u001b[0m\u001b[1;36m6\u001b[0m\u001b[1;33m]\u001b[0m\u001b[1;33m)\u001b[0m\u001b[1;33m)\u001b[0m\u001b[1;33m,\u001b[0m\u001b[0mint\u001b[0m\u001b[1;33m(\u001b[0m\u001b[0mfloat\u001b[0m\u001b[1;33m(\u001b[0m\u001b[0mresults\u001b[0m\u001b[1;33m[\u001b[0m\u001b[0mday\u001b[0m\u001b[1;33m]\u001b[0m\u001b[1;33m[\u001b[0m\u001b[1;36m7\u001b[0m\u001b[1;33m]\u001b[0m\u001b[1;33m)\u001b[0m\u001b[1;33m)\u001b[0m\u001b[1;33m,\u001b[0m\u001b[0mint\u001b[0m\u001b[1;33m(\u001b[0m\u001b[0mfloat\u001b[0m\u001b[1;33m(\u001b[0m\u001b[0mresults\u001b[0m\u001b[1;33m[\u001b[0m\u001b[0mday\u001b[0m\u001b[1;33m]\u001b[0m\u001b[1;33m[\u001b[0m\u001b[1;36m8\u001b[0m\u001b[1;33m]\u001b[0m\u001b[1;33m)\u001b[0m\u001b[1;33m)\u001b[0m\u001b[1;33m,\u001b[0m\u001b[0mint\u001b[0m\u001b[1;33m(\u001b[0m\u001b[0mfloat\u001b[0m\u001b[1;33m(\u001b[0m\u001b[0mresults\u001b[0m\u001b[1;33m[\u001b[0m\u001b[0mday\u001b[0m\u001b[1;33m]\u001b[0m\u001b[1;33m[\u001b[0m\u001b[1;36m9\u001b[0m\u001b[1;33m]\u001b[0m\u001b[1;33m)\u001b[0m\u001b[1;33m)\u001b[0m\u001b[1;33m,\u001b[0m \u001b[0mint\u001b[0m\u001b[1;33m(\u001b[0m\u001b[0mfloat\u001b[0m\u001b[1;33m(\u001b[0m\u001b[0mresults\u001b[0m\u001b[1;33m[\u001b[0m\u001b[0mday\u001b[0m\u001b[1;33m]\u001b[0m\u001b[1;33m[\u001b[0m\u001b[1;36m10\u001b[0m\u001b[1;33m]\u001b[0m\u001b[1;33m)\u001b[0m\u001b[1;33m)\u001b[0m\u001b[1;33m,\u001b[0m \u001b[0mint\u001b[0m\u001b[1;33m(\u001b[0m\u001b[0mfloat\u001b[0m\u001b[1;33m(\u001b[0m\u001b[0mresults\u001b[0m\u001b[1;33m[\u001b[0m\u001b[0mday\u001b[0m\u001b[1;33m]\u001b[0m\u001b[1;33m[\u001b[0m\u001b[1;36m11\u001b[0m\u001b[1;33m]\u001b[0m\u001b[1;33m)\u001b[0m\u001b[1;33m)\u001b[0m\u001b[1;33m,\u001b[0m\u001b[0mint\u001b[0m\u001b[1;33m(\u001b[0m\u001b[0mfloat\u001b[0m\u001b[1;33m(\u001b[0m\u001b[0mresults\u001b[0m\u001b[1;33m[\u001b[0m\u001b[0mday\u001b[0m\u001b[1;33m]\u001b[0m\u001b[1;33m[\u001b[0m\u001b[1;36m12\u001b[0m\u001b[1;33m]\u001b[0m\u001b[1;33m)\u001b[0m\u001b[1;33m)\u001b[0m\u001b[1;33m)\u001b[0m\u001b[1;33m\u001b[0m\u001b[1;33m\u001b[0m\u001b[0m\n\u001b[0m\u001b[0;32m     11\u001b[0m     \u001b[0mprint\u001b[0m\u001b[1;33m(\u001b[0m\u001b[1;34m\"-----------------------------------------------------------------------------------------------------\\n\"\u001b[0m\u001b[1;33m)\u001b[0m\u001b[1;33m\u001b[0m\u001b[1;33m\u001b[0m\u001b[0m\n",
      "\u001b[1;31mOverflowError\u001b[0m: cannot convert float infinity to integer"
     ]
    }
   ],
   "source": [
    "for z in range(1, len(last5_params)+1):\n",
    "    results = seird_model(last5_vals[z-1], last5_params[z-1], t7)\n",
    "    t_z = np.arange(48 - z, 78 - z, 1)\n",
    "    print(\"---------------------------------------------------------------------------------------------------\")\n",
    "    print(\"Predictions using\", last5_vals[z-1][0], \"parameters\")\n",
    "    print(\"---------------------------------------------------------------------------------------------------\")\n",
    "    print(\"Date\", \"Uncovered\", \"Du\", \"Ru\", \"Exposed\", \"Isolated\", \"Infected\", \"Di\", \"Ri\", \"Apathetic\", \"Da\", \"Ra\" )\n",
    "    print(\"---------------------------------------------------------------------------------------------------\")\n",
    "    for day in t_z:\n",
    "        print(results[day][0],int(float(results[day][2])),int(float(results[day][3])),int(float(results[day][4])), int(float(results[day][5])), int(float(results[day][6])),int(float(results[day][7])),int(float(results[day][8])),int(float(results[day][9])), int(float(results[day][10])), int(float(results[day][11])),int(float(results[day][12])))\n",
    "    print(\"-----------------------------------------------------------------------------------------------------\\n\")"
   ]
  },
  {
   "cell_type": "code",
   "execution_count": null,
   "metadata": {},
   "outputs": [],
   "source": []
  },
  {
   "cell_type": "code",
   "execution_count": null,
   "metadata": {},
   "outputs": [],
   "source": []
  }
 ],
 "metadata": {
  "kernelspec": {
   "display_name": "Python 3",
   "language": "python",
   "name": "python3"
  },
  "language_info": {
   "codemirror_mode": {
    "name": "ipython",
    "version": 3
   },
   "file_extension": ".py",
   "mimetype": "text/x-python",
   "name": "python",
   "nbconvert_exporter": "python",
   "pygments_lexer": "ipython3",
   "version": "3.8.5"
  }
 },
 "nbformat": 4,
 "nbformat_minor": 5
}
